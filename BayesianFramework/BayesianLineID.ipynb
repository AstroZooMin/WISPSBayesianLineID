{
 "cells": [
  {
   "cell_type": "markdown",
   "metadata": {
    "toc": "true"
   },
   "source": [
    "# Table of Contents\n",
    " <p><div class=\"lev1 toc-item\"><a href=\"#Bayesian-Line-Identification-framework-for-WISPS-data\" data-toc-modified-id=\"Bayesian-Line-Identification-framework-for-WISPS-data-1\"><span class=\"toc-item-num\">1&nbsp;&nbsp;</span>Bayesian Line Identification framework for WISPS data</a></div><div class=\"lev2 toc-item\"><a href=\"#Retrieve-required-data-from-aXe-products\" data-toc-modified-id=\"Retrieve-required-data-from-aXe-products-11\"><span class=\"toc-item-num\">1.1&nbsp;&nbsp;</span>Retrieve required data from aXe products</a></div>"
   ]
  },
  {
   "cell_type": "markdown",
   "metadata": {},
   "source": [
    "# Bayesian Line Identification framework for WISPS data\n",
    "## Retrieve required data from aXe products\n",
    "The line identification framework requires:\n",
    "* A postage stamp cutout from the direct image to be used as a two-dimensional template for the line flux.\n",
    "* The drizzled, wavelength calibrated, contamination-subtracted stamp for the target."
   ]
  },
  {
   "cell_type": "code",
   "execution_count": null,
   "metadata": {
    "collapsed": true
   },
   "outputs": [],
   "source": []
  }
 ],
 "metadata": {
  "kernelspec": {
   "display_name": "Python 3",
   "language": "python",
   "name": "python3"
  },
  "language_info": {
   "codemirror_mode": {
    "name": "ipython",
    "version": 3
   },
   "file_extension": ".py",
   "mimetype": "text/x-python",
   "name": "python",
   "nbconvert_exporter": "python",
   "pygments_lexer": "ipython3",
   "version": "3.5.2"
  },
  "toc": {
   "nav_menu": {
    "height": "48px",
    "width": "252px"
   },
   "navigate_menu": true,
   "number_sections": true,
   "sideBar": false,
   "threshold": 4,
   "toc_cell": true,
   "toc_section_display": "block",
   "toc_window_display": false
  }
 },
 "nbformat": 4,
 "nbformat_minor": 1
}
